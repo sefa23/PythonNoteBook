{
 "cells": [
  {
   "cell_type": "code",
   "execution_count": 1,
   "metadata": {},
   "outputs": [
    {
     "name": "stdout",
     "output_type": "stream",
     "text": [
      "1.Sayıyı giriniz.45\n",
      "2.Sayıyı giriniz.60\n",
      "Ortalama:52.5\n"
     ]
    }
   ],
   "source": [
    "#2sayının ortalaması\n",
    "number1=int(input(\"1.Sayıyı giriniz.\"))\n",
    "number2=int(input(\"2.Sayıyı giriniz.\"))\n",
    "average=(number1+number2)/2\n",
    "print(\"Ortalama:{}\".format(average))"
   ]
  },
  {
   "cell_type": "code",
   "execution_count": 4,
   "metadata": {},
   "outputs": [
    {
     "name": "stdout",
     "output_type": "stream",
     "text": [
      "Kontrol için sayı giriniz:8\n",
      "Çift Sayı: 8\n"
     ]
    }
   ],
   "source": [
    "#Tek çift kontrolü\n",
    "number1=int(input(\"Kontrol için sayı giriniz:\"))\n",
    "if number1%2==0:\n",
    "    print(\"Çift Sayı:\",number1)\n",
    "elif number1%2==1:\n",
    "    print(\"Tek Sayı:\",number1)"
   ]
  },
  {
   "cell_type": "markdown",
   "metadata": {},
   "source": [
    "\n"
   ]
  },
  {
   "cell_type": "code",
   "execution_count": 7,
   "metadata": {},
   "outputs": [
    {
     "name": "stdout",
     "output_type": "stream",
     "text": [
      "Sayı Giriniz:-5\n",
      "-5 Sayısı negatif\n"
     ]
    }
   ],
   "source": [
    "#Negatif,pozirif ayrımı\n",
    "number1=int(input(\"Sayı Giriniz:\"))\n",
    "if number1<0:\n",
    "    print(\"{} Sayısı negatif\".format(number1))\n",
    "elif number1>0:\n",
    "    print(\"{} Sayısı pozitif\".format(number1))\n",
    "else:\n",
    "    print(\"Girdiğiniz Sayı 0 \")"
   ]
  },
  {
   "cell_type": "code",
   "execution_count": 37,
   "metadata": {},
   "outputs": [
    {
     "name": "stdout",
     "output_type": "stream",
     "text": [
      "1. sayı\n",
      "\n",
      "2. sayı\n",
      "\n",
      "3. sayı\n",
      "\n",
      "4. sayı\n",
      "\n",
      "5. sayı\n",
      "\n",
      "6. sayı\n",
      "\n",
      "7. sayı\n",
      "\n",
      "8. sayı\n",
      "\n",
      "9. sayı\n",
      "\n",
      "10. sayı\n",
      "\n"
     ]
    }
   ],
   "source": [
    "#1-100 arasındaki sayıları listeleme\n",
    "for number in range(100):\n",
    "    print(\"{}. sayı\\n\".format(number+1))"
   ]
  },
  {
   "cell_type": "code",
   "execution_count": 19,
   "metadata": {},
   "outputs": [
    {
     "name": "stdout",
     "output_type": "stream",
     "text": [
      "0 sayısı çifttir\n",
      "1 sayısı tektir\n",
      "2 sayısı çifttir\n",
      "3 sayısı tektir\n",
      "4 sayısı çifttir\n",
      "5 sayısı tektir\n",
      "6 sayısı çifttir\n",
      "7 sayısı tektir\n",
      "8 sayısı çifttir\n",
      "9 sayısı tektir\n",
      "10 sayısı çifttir\n",
      "11 sayısı tektir\n",
      "12 sayısı çifttir\n",
      "13 sayısı tektir\n",
      "14 sayısı çifttir\n",
      "15 sayısı tektir\n",
      "16 sayısı çifttir\n",
      "17 sayısı tektir\n",
      "18 sayısı çifttir\n",
      "19 sayısı tektir\n",
      "20 sayısı çifttir\n",
      "21 sayısı tektir\n",
      "22 sayısı çifttir\n",
      "23 sayısı tektir\n",
      "24 sayısı çifttir\n",
      "25 sayısı tektir\n",
      "26 sayısı çifttir\n",
      "27 sayısı tektir\n",
      "28 sayısı çifttir\n",
      "29 sayısı tektir\n",
      "30 sayısı çifttir\n",
      "31 sayısı tektir\n",
      "32 sayısı çifttir\n",
      "33 sayısı tektir\n",
      "34 sayısı çifttir\n",
      "35 sayısı tektir\n",
      "36 sayısı çifttir\n",
      "37 sayısı tektir\n",
      "38 sayısı çifttir\n",
      "39 sayısı tektir\n",
      "40 sayısı çifttir\n",
      "41 sayısı tektir\n",
      "42 sayısı çifttir\n",
      "43 sayısı tektir\n",
      "44 sayısı çifttir\n",
      "45 sayısı tektir\n",
      "46 sayısı çifttir\n",
      "47 sayısı tektir\n",
      "48 sayısı çifttir\n",
      "49 sayısı tektir\n",
      "50 sayısı çifttir\n",
      "51 sayısı tektir\n",
      "52 sayısı çifttir\n",
      "53 sayısı tektir\n",
      "54 sayısı çifttir\n",
      "55 sayısı tektir\n",
      "56 sayısı çifttir\n",
      "57 sayısı tektir\n",
      "58 sayısı çifttir\n",
      "59 sayısı tektir\n",
      "60 sayısı çifttir\n",
      "61 sayısı tektir\n",
      "62 sayısı çifttir\n",
      "63 sayısı tektir\n",
      "64 sayısı çifttir\n",
      "65 sayısı tektir\n",
      "66 sayısı çifttir\n",
      "67 sayısı tektir\n",
      "68 sayısı çifttir\n",
      "69 sayısı tektir\n",
      "70 sayısı çifttir\n",
      "71 sayısı tektir\n",
      "72 sayısı çifttir\n",
      "73 sayısı tektir\n",
      "74 sayısı çifttir\n",
      "75 sayısı tektir\n",
      "76 sayısı çifttir\n",
      "77 sayısı tektir\n",
      "78 sayısı çifttir\n",
      "79 sayısı tektir\n",
      "80 sayısı çifttir\n",
      "81 sayısı tektir\n",
      "82 sayısı çifttir\n",
      "83 sayısı tektir\n",
      "84 sayısı çifttir\n",
      "85 sayısı tektir\n",
      "86 sayısı çifttir\n",
      "87 sayısı tektir\n",
      "88 sayısı çifttir\n",
      "89 sayısı tektir\n",
      "90 sayısı çifttir\n",
      "91 sayısı tektir\n",
      "92 sayısı çifttir\n",
      "93 sayısı tektir\n",
      "94 sayısı çifttir\n",
      "95 sayısı tektir\n",
      "96 sayısı çifttir\n",
      "97 sayısı tektir\n",
      "98 sayısı çifttir\n",
      "99 sayısı tektir\n",
      "100 sayısı çifttir\n"
     ]
    }
   ],
   "source": [
    "#100 kadar sayıların tek,çift kontrolü\n",
    "for number in range(100+1):\n",
    "    if number%2==0:\n",
    "        print(\"{} sayısı çifttir\".format(number))\n",
    "    elif number%2==1:\n",
    "        print(\"{} sayısı tektir\".format(number))\n",
    "    else:\n",
    "        print(\"hata\")\n",
    "    "
   ]
  },
  {
   "cell_type": "code",
   "execution_count": 24,
   "metadata": {
    "scrolled": true
   },
   "outputs": [
    {
     "name": "stdout",
     "output_type": "stream",
     "text": [
      "Sayı Giriniz:5\n",
      "0 .sayı\n",
      "1 .sayı\n",
      "2 .sayı\n",
      "3 .sayı\n",
      "4 .sayı\n",
      "5 .sayı\n"
     ]
    }
   ],
   "source": [
    "#girilen sayıya kadar listeleme\n",
    "number=int(input(\"Sayı Giriniz:\"))\n",
    "for number1 in range(number+1):\n",
    "    print(number1,\".sayı\")"
   ]
  },
  {
   "cell_type": "markdown",
   "metadata": {},
   "source": []
  },
  {
   "cell_type": "code",
   "execution_count": 26,
   "metadata": {},
   "outputs": [
    {
     "name": "stdout",
     "output_type": "stream",
     "text": [
      "Hesaplama İçin Kenar Uzunluklarını giriniz:\n",
      "Kısa kenar değeri:5\n",
      "Uzun kenar değeri:10\n",
      "Alan: 50.0\n",
      "Çevre: 30.0\n"
     ]
    }
   ],
   "source": [
    "#dikdörtgen alan,çevre\n",
    "print(\"Hesaplama İçin Kenar Uzunluklarını giriniz:\")\n",
    "edge1=float(input(\"Kısa kenar değeri:\"))\n",
    "edge2=float(input(\"Uzun kenar değeri:\"))\n",
    "area=edge1*edge2\n",
    "print(\"Alan:\",area)\n",
    "around=(edge1*2)+(edge2*2)\n",
    "print(\"Çevre:\",around)"
   ]
  },
  {
   "cell_type": "code",
   "execution_count": 3,
   "metadata": {},
   "outputs": [
    {
     "name": "stdout",
     "output_type": "stream",
     "text": [
      "Sayı Giriniz:11\n",
      "11 Asal Sayıdır\n"
     ]
    }
   ],
   "source": [
    "#Asal sayı örneği\n",
    "number=int(input(\"Sayı Giriniz:\"))\n",
    "if number>1:\n",
    "    for i in range(2,number):\n",
    "        if number%i==0:\n",
    "            print(number,\"Asal Değil\")\n",
    "            break\n",
    "        else:\n",
    "            print(number,\"Asal Sayıdır\")\n",
    "            break"
   ]
  },
  {
   "cell_type": "code",
   "execution_count": 14,
   "metadata": {},
   "outputs": [
    {
     "name": "stdout",
     "output_type": "stream",
     "text": [
      "Net Maaş Tutarını yazınız5500\n",
      "Zam Oranını giriniz ... %20\n",
      "Zam tutarı: 1100.0\n",
      "Zamlı maaş tutarı: 6600.0\n"
     ]
    }
   ],
   "source": [
    "#Zamlı Maaş\n",
    "salary1=int(input(\"Net Maaş Tutarını yazınız\"))\n",
    "\n",
    "extra=int(input(\"Zam Oranını giriniz ... %\"))\n",
    "finalsalary=(salary1*extra)/100\n",
    "print(\"Zam tutarı:\",finalsalary)\n",
    "print(\"Zamlı maaş tutarı:\",(salary1+finalsalary))\n"
   ]
  },
  {
   "cell_type": "markdown",
   "metadata": {},
   "source": []
  },
  {
   "cell_type": "code",
   "execution_count": 23,
   "metadata": {},
   "outputs": [
    {
     "name": "stdout",
     "output_type": "stream",
     "text": [
      "1.sayıyı giriniz:54\n",
      "2.sayıyı giriniz:4\n",
      "Toplam:\n",
      "Fark:\n"
     ]
    },
    {
     "data": {
      "text/plain": [
       "1"
      ]
     },
     "execution_count": 23,
     "metadata": {},
     "output_type": "execute_result"
    }
   ],
   "source": [
    "#fonksiyon örnek\n",
    "def collection(num1,num2):\n",
    "    summ=num1+num2\n",
    "    return summ\n",
    "collection(5,4)\n",
    "def extraction(num1,num2):\n",
    "    ext=num1-num2\n",
    "    return ext\n",
    "\n",
    "ver1=int(input(\"1.sayıyı giriniz:\"))\n",
    "ver2=int(input(\"2.sayıyı giriniz:\"))\n",
    "print(\"Toplam:\")\n",
    "collection(ver1,ver2)\n",
    "print(\"Fark:\")\n",
    "extraction(5,4)"
   ]
  },
  {
   "cell_type": "code",
   "execution_count": 28,
   "metadata": {},
   "outputs": [
    {
     "name": "stdout",
     "output_type": "stream",
     "text": [
      "Çember alan ve çevre hesaplaması için yarıçap giriniz (r):4\n",
      "Alan: 50.24\n",
      "Çevre: 25.12\n"
     ]
    }
   ],
   "source": [
    "#fonksiyon Daire Alan Çevre Hesaplama\n",
    "pi=3.14\n",
    "def dArea(r):\n",
    "    area=pi*r*r\n",
    "    return area\n",
    "def dAround(r):\n",
    "    around=2*pi*r\n",
    "    return around\n",
    "flat=int(input(\"Çember alan ve çevre hesaplaması için yarıçap giriniz (r):\"))\n",
    "print(\"Alan:\",dArea(flat))\n",
    "print(\"Çevre:\",dAround(flat))"
   ]
  },
  {
   "cell_type": "code",
   "execution_count": 36,
   "metadata": {},
   "outputs": [
    {
     "name": "stdout",
     "output_type": "stream",
     "text": [
      "Tamininizi giriniz:4\n",
      "Yanlış Tahmin\n",
      "Tamininizi giriniz:3\n",
      "Yanlış Tahmin\n",
      "Tamininizi giriniz:2\n",
      "Tebrikler... Doğru Tahmin\n",
      "Puanınız 80\n"
     ]
    }
   ],
   "source": [
    "#Random tahmin oyunu\n",
    "import random\n",
    "randd=random.randint(1,10)\n",
    "#print(randd)\n",
    "estimate=0\n",
    "point=100\n",
    "while randd!=estimate:\n",
    "    estimate=int(input(\"Tamininizi giriniz:\"))\n",
    "    if estimate==randd:\n",
    "        print(\"Tebrikler... Doğru Tahmin\")\n",
    "        break\n",
    "    elif estimate != randd:\n",
    "        point=point-10\n",
    "        print(\"Yanlış Tahmin\")\n",
    "        \n",
    "print(\"Puanınız\",point)\n"
   ]
  },
  {
   "cell_type": "code",
   "execution_count": null,
   "metadata": {},
   "outputs": [],
   "source": []
  }
 ],
 "metadata": {
  "kernelspec": {
   "display_name": "Python 3",
   "language": "python",
   "name": "python3"
  },
  "language_info": {
   "codemirror_mode": {
    "name": "ipython",
    "version": 3
   },
   "file_extension": ".py",
   "mimetype": "text/x-python",
   "name": "python",
   "nbconvert_exporter": "python",
   "pygments_lexer": "ipython3",
   "version": "3.7.6"
  }
 },
 "nbformat": 4,
 "nbformat_minor": 4
}
