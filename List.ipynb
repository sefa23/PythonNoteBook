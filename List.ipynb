{
 "cells": [
  {
   "cell_type": "code",
   "execution_count": 8,
   "metadata": {},
   "outputs": [
    {
     "name": "stdout",
     "output_type": "stream",
     "text": [
      "30\n"
     ]
    }
   ],
   "source": [
    "#Liste elemanlarına erişim\n",
    "listver=[10,20,30]\n",
    "lver=listver[2]\n",
    "print(lver)"
   ]
  },
  {
   "cell_type": "code",
   "execution_count": 7,
   "metadata": {},
   "outputs": [
    {
     "data": {
      "text/plain": [
       "20"
      ]
     },
     "execution_count": 7,
     "metadata": {},
     "output_type": "execute_result"
    }
   ],
   "source": [
    "listver[-2] #Sondan itibaren sayar"
   ]
  },
  {
   "cell_type": "code",
   "execution_count": 9,
   "metadata": {},
   "outputs": [
    {
     "data": {
      "text/plain": [
       "3"
      ]
     },
     "execution_count": 9,
     "metadata": {},
     "output_type": "execute_result"
    }
   ],
   "source": [
    "len(listver) #eleman sayısını verir"
   ]
  },
  {
   "cell_type": "code",
   "execution_count": 12,
   "metadata": {},
   "outputs": [
    {
     "data": {
      "text/plain": [
       "30"
      ]
     },
     "execution_count": 12,
     "metadata": {},
     "output_type": "execute_result"
    }
   ],
   "source": [
    "a=listver[len(listver)-1] #Sondaki Elamana Erişim\n",
    "a"
   ]
  },
  {
   "cell_type": "code",
   "execution_count": 13,
   "metadata": {},
   "outputs": [
    {
     "name": "stdout",
     "output_type": "stream",
     "text": [
      "[1, 2, 3, 4, 5, 6, 7]\n"
     ]
    }
   ],
   "source": [
    "#listeyi ekrana yazdırma\n",
    "liste=[1,2,3,4,5,6,7]\n",
    "print(liste)"
   ]
  },
  {
   "cell_type": "code",
   "execution_count": 14,
   "metadata": {},
   "outputs": [
    {
     "name": "stdout",
     "output_type": "stream",
     "text": [
      "1\n",
      "2\n",
      "3\n",
      "4\n",
      "5\n",
      "6\n",
      "7\n"
     ]
    }
   ],
   "source": [
    "for i in liste:\n",
    "    print(i)"
   ]
  },
  {
   "cell_type": "code",
   "execution_count": 21,
   "metadata": {},
   "outputs": [
    {
     "name": "stdout",
     "output_type": "stream",
     "text": [
      "1\n",
      "2\n",
      "3\n",
      "4\n",
      "5\n",
      "6\n"
     ]
    }
   ],
   "source": [
    "for i in range(1,len(liste)):\n",
    "    print(i)\n"
   ]
  },
  {
   "cell_type": "code",
   "execution_count": 20,
   "metadata": {},
   "outputs": [
    {
     "name": "stdout",
     "output_type": "stream",
     "text": [
      "[1, 2, 3, 4, 5, 6, 7, 1, 2, 3, 4, 5, 6, 7]\n"
     ]
    }
   ],
   "source": [
    "#liste elemanlarını çoğaltma\n",
    "a=liste*2\n",
    "print(a)"
   ]
  },
  {
   "cell_type": "code",
   "execution_count": 24,
   "metadata": {},
   "outputs": [
    {
     "name": "stdout",
     "output_type": "stream",
     "text": [
      "1\n",
      "3\n",
      "5\n"
     ]
    }
   ],
   "source": [
    "#2şer elaman gezimi\n",
    "for i in range(1,len(liste),2):\n",
    "    print(i)\n",
    "    "
   ]
  },
  {
   "cell_type": "code",
   "execution_count": 28,
   "metadata": {},
   "outputs": [
    {
     "name": "stdout",
     "output_type": "stream",
     "text": [
      "[30, 50]\n",
      "[30, 40, 50, 60, 70, 80]\n",
      "[10, 20, 30, 40, 50]\n"
     ]
    }
   ],
   "source": [
    "#liste parçalama\n",
    "#liste[başlangıç:bitiş:artış]\n",
    "liste=[10,20,30,40,50,60,70,80]\n",
    "print(liste[2:5:2])\n",
    "print(liste[2:])\n",
    "print(liste[:5])"
   ]
  },
  {
   "cell_type": "code",
   "execution_count": 29,
   "metadata": {},
   "outputs": [
    {
     "name": "stdout",
     "output_type": "stream",
     "text": [
      "[10, 2, 4, 6, 40, 50, 60, 70, 80]\n"
     ]
    }
   ],
   "source": [
    "#liste elemanları değiştirme\n",
    "liste[1:3]=[2,4,6]\n",
    "print(liste)"
   ]
  },
  {
   "cell_type": "code",
   "execution_count": 30,
   "metadata": {},
   "outputs": [
    {
     "name": "stdout",
     "output_type": "stream",
     "text": [
      "[1, 45, 6, 23, 44, 34, 2, 3]\n"
     ]
    }
   ],
   "source": [
    "#liste birleştirme\n",
    "liste1=[1,45,6,23,44,34]\n",
    "liste2=[2,3]\n",
    "liste3=liste1+liste2\n",
    "print(liste3)"
   ]
  },
  {
   "cell_type": "code",
   "execution_count": 34,
   "metadata": {},
   "outputs": [
    {
     "name": "stdout",
     "output_type": "stream",
     "text": [
      "[23, 44, 6, 34, 61]\n"
     ]
    }
   ],
   "source": [
    "#listeye eleman ekleme append()\n",
    "liste1=[23,44,6,34]\n",
    "liste1.append(61)\n",
    "print(liste1)"
   ]
  },
  {
   "cell_type": "code",
   "execution_count": 35,
   "metadata": {},
   "outputs": [
    {
     "name": "stdout",
     "output_type": "stream",
     "text": [
      "[23, 44, 62, 6, 34, 61]\n"
     ]
    }
   ],
   "source": [
    "#indexe istenilen sayıyı ekleme insert()\n",
    "liste1.insert(2,62)\n",
    "print(liste1)\n"
   ]
  },
  {
   "cell_type": "code",
   "execution_count": 36,
   "metadata": {},
   "outputs": [
    {
     "name": "stdout",
     "output_type": "stream",
     "text": [
      "[2, 3, 4, 6]\n"
     ]
    }
   ],
   "source": [
    "#listeden eleman silme\n",
    "liste=[2,3,4,5,6]\n",
    "liste.remove(5)\n",
    "print(liste)"
   ]
  },
  {
   "cell_type": "code",
   "execution_count": 38,
   "metadata": {},
   "outputs": [
    {
     "name": "stdout",
     "output_type": "stream",
     "text": [
      "[7, 8, 10]\n"
     ]
    }
   ],
   "source": [
    "#liste liste indes silme del()\n",
    "liste=[7,8,9,10]\n",
    "del liste[2]\n",
    "print(liste)\n",
    "\n",
    "#del liste  -> listenin tümünü siler"
   ]
  },
  {
   "cell_type": "code",
   "execution_count": 40,
   "metadata": {},
   "outputs": [
    {
     "name": "stdout",
     "output_type": "stream",
     "text": [
      "25\n",
      "[23, 44, 34]\n"
     ]
    }
   ],
   "source": [
    "#listedeki son elamanı pop() fonksiyonu ile alma\n",
    "liste=[23,44,34,25]\n",
    "a=liste.pop()\n",
    "print(a)\n",
    "print(liste)"
   ]
  },
  {
   "cell_type": "code",
   "execution_count": 42,
   "metadata": {},
   "outputs": [
    {
     "name": "stdout",
     "output_type": "stream",
     "text": [
      "True\n"
     ]
    }
   ],
   "source": [
    "#Liste varlık kontrol varmı->in\n",
    "liste=[4,5,6,7]\n",
    "varmı= 6 in liste\n",
    "print(varmı)"
   ]
  },
  {
   "cell_type": "code",
   "execution_count": 44,
   "metadata": {},
   "outputs": [
    {
     "name": "stdout",
     "output_type": "stream",
     "text": [
      "False\n"
     ]
    }
   ],
   "source": [
    "#Liste varlık kontrol->yokmu\n",
    "yokmu=5 not in liste\n",
    "print(yokmu)"
   ]
  },
  {
   "cell_type": "code",
   "execution_count": 45,
   "metadata": {},
   "outputs": [
    {
     "name": "stdout",
     "output_type": "stream",
     "text": [
      "1\n"
     ]
    }
   ],
   "source": [
    "#index bulma index()\n",
    "index=liste.index(5)\n",
    "print(index)"
   ]
  },
  {
   "cell_type": "code",
   "execution_count": 48,
   "metadata": {},
   "outputs": [
    {
     "name": "stdout",
     "output_type": "stream",
     "text": [
      "[3, 5, 7, 8]\n"
     ]
    },
    {
     "data": {
      "text/plain": [
       "1995791815560"
      ]
     },
     "execution_count": 48,
     "metadata": {},
     "output_type": "execute_result"
    }
   ],
   "source": [
    "#liste kopyalama\n",
    "liste1=[3,5,7,8]\n",
    "liste=liste1\n",
    "print(liste)\n",
    "id(liste) #bellek adresi"
   ]
  },
  {
   "cell_type": "code",
   "execution_count": 49,
   "metadata": {},
   "outputs": [
    {
     "name": "stdout",
     "output_type": "stream",
     "text": [
      "[1, 2, 3, 4, 7, 34]\n"
     ]
    }
   ],
   "source": [
    "#listeyi küçükten büyüğe sıralama -> sort()\n",
    "liste=[7,3,4,2,1,34]\n",
    "liste.sort()\n",
    "print(liste)\n"
   ]
  },
  {
   "cell_type": "code",
   "execution_count": 50,
   "metadata": {},
   "outputs": [
    {
     "name": "stdout",
     "output_type": "stream",
     "text": [
      "['Ankara', 'Elazığ', 'Türkiye', 'can', 'sefa']\n"
     ]
    }
   ],
   "source": [
    "# Listede kelime sıralama -> önce büyük harfler sonra küçük harflerde alfabetik sıralama yapar\n",
    "listestr=[\"sefa\",\"can\",\"Elazığ\",\"Ankara\",\"Türkiye\"]\n",
    "listestr.sort()\n",
    "print(listestr)"
   ]
  },
  {
   "cell_type": "code",
   "execution_count": 51,
   "metadata": {},
   "outputs": [
    {
     "name": "stdout",
     "output_type": "stream",
     "text": [
      "[6, 5, 4, 3, 2, 1]\n"
     ]
    }
   ],
   "source": [
    "#listeyi ters çevirme -> reverse()\n",
    "liste=[1,2,3,4,5,6]\n",
    "liste.reverse()\n",
    "print(liste)"
   ]
  },
  {
   "cell_type": "code",
   "execution_count": 52,
   "metadata": {},
   "outputs": [
    {
     "name": "stdout",
     "output_type": "stream",
     "text": [
      "['Türkiye', 'Ankara', 'Elazığ', 'can', 'sefa']\n"
     ]
    }
   ],
   "source": [
    "#Kelimeleri tersden listeleme\n",
    "listestr=[\"sefa\",\"can\",\"Elazığ\",\"Ankara\",\"Türkiye\"]\n",
    "listestr.reverse()\n",
    "print(listestr)"
   ]
  },
  {
   "cell_type": "code",
   "execution_count": 54,
   "metadata": {},
   "outputs": [
    {
     "name": "stdout",
     "output_type": "stream",
     "text": [
      "6\n"
     ]
    }
   ],
   "source": [
    "#Liste içinde kaç kez istenilen eleman geçiyor?-> count()\n",
    "liste=[2,4,5,5,4,8,9,1,1,4,4,4,3,6,5,4,7,89,]\n",
    "kac=liste.count(4)\n",
    "print(kac)"
   ]
  },
  {
   "cell_type": "code",
   "execution_count": 56,
   "metadata": {},
   "outputs": [
    {
     "name": "stdout",
     "output_type": "stream",
     "text": [
      "En büyük: 65\n",
      "En küçük: 1\n"
     ]
    }
   ],
   "source": [
    "#listede max min eleman bulma -> max() min()\n",
    "liste=[3,4,6,2,4,45,65,1]\n",
    "k=min(liste)\n",
    "b=max(liste)\n",
    "print(\"En büyük:\",b)\n",
    "print(\"En küçük:\",k)\n"
   ]
  },
  {
   "cell_type": "code",
   "execution_count": 57,
   "metadata": {},
   "outputs": [
    {
     "name": "stdout",
     "output_type": "stream",
     "text": [
      "30\n"
     ]
    }
   ],
   "source": [
    "#Liste elamanlarının toplamını bulma ->sum()\n",
    "liste=[4,5,1,15,5]\n",
    "toplam=sum(liste)\n",
    "print(toplam)"
   ]
  },
  {
   "cell_type": "code",
   "execution_count": 61,
   "metadata": {},
   "outputs": [
    {
     "name": "stdout",
     "output_type": "stream",
     "text": [
      "[0, 1, 2, 3, 4]\n",
      "[0, 2, 4, 6, 8, 10, 12, 14]\n"
     ]
    }
   ],
   "source": [
    "#Liste Üretme\n",
    "liste=[a for a in range(5)] #5 e kadar eleman üretme\n",
    "print(liste)\n",
    "liste1=[a for a in range(15) if a%2==0] #0 dan 15 e kadar 2 ye tam bölünen sayıların listeye atanması\n",
    "print(liste1)"
   ]
  },
  {
   "cell_type": "code",
   "execution_count": null,
   "metadata": {},
   "outputs": [],
   "source": []
  }
 ],
 "metadata": {
  "kernelspec": {
   "display_name": "Python 3",
   "language": "python",
   "name": "python3"
  },
  "language_info": {
   "codemirror_mode": {
    "name": "ipython",
    "version": 3
   },
   "file_extension": ".py",
   "mimetype": "text/x-python",
   "name": "python",
   "nbconvert_exporter": "python",
   "pygments_lexer": "ipython3",
   "version": "3.7.6"
  }
 },
 "nbformat": 4,
 "nbformat_minor": 4
}
